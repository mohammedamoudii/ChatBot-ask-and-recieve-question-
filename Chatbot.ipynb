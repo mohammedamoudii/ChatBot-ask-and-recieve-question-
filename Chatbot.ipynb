{
 "cells": [
  {
   "cell_type": "code",
   "execution_count": 3,
   "id": "66d34eed-72fb-4276-bb6d-81c1d0ba21ad",
   "metadata": {},
   "outputs": [
    {
     "name": "stdout",
     "output_type": "stream",
     "text": [
      "Collecting openai\n",
      "  Downloading openai-1.37.1-py3-none-any.whl.metadata (22 kB)\n",
      "Requirement already satisfied: anyio<5,>=3.5.0 in c:\\users\\mohammed\\anaconda3\\lib\\site-packages (from openai) (4.2.0)\n",
      "Requirement already satisfied: distro<2,>=1.7.0 in c:\\users\\mohammed\\anaconda3\\lib\\site-packages (from openai) (1.8.0)\n",
      "Requirement already satisfied: httpx<1,>=0.23.0 in c:\\users\\mohammed\\anaconda3\\lib\\site-packages (from openai) (0.26.0)\n",
      "Requirement already satisfied: pydantic<3,>=1.9.0 in c:\\users\\mohammed\\anaconda3\\lib\\site-packages (from openai) (1.10.12)\n",
      "Requirement already satisfied: sniffio in c:\\users\\mohammed\\anaconda3\\lib\\site-packages (from openai) (1.3.0)\n",
      "Requirement already satisfied: tqdm>4 in c:\\users\\mohammed\\anaconda3\\lib\\site-packages (from openai) (4.65.0)\n",
      "Requirement already satisfied: typing-extensions<5,>=4.7 in c:\\users\\mohammed\\anaconda3\\lib\\site-packages (from openai) (4.9.0)\n",
      "Requirement already satisfied: idna>=2.8 in c:\\users\\mohammed\\anaconda3\\lib\\site-packages (from anyio<5,>=3.5.0->openai) (3.4)\n",
      "Requirement already satisfied: certifi in c:\\users\\mohammed\\anaconda3\\lib\\site-packages (from httpx<1,>=0.23.0->openai) (2024.7.4)\n",
      "Requirement already satisfied: httpcore==1.* in c:\\users\\mohammed\\anaconda3\\lib\\site-packages (from httpx<1,>=0.23.0->openai) (1.0.2)\n",
      "Requirement already satisfied: h11<0.15,>=0.13 in c:\\users\\mohammed\\anaconda3\\lib\\site-packages (from httpcore==1.*->httpx<1,>=0.23.0->openai) (0.14.0)\n",
      "Requirement already satisfied: colorama in c:\\users\\mohammed\\anaconda3\\lib\\site-packages (from tqdm>4->openai) (0.4.6)\n",
      "Downloading openai-1.37.1-py3-none-any.whl (337 kB)\n",
      "   ---------------------------------------- 0.0/337.0 kB ? eta -:--:--\n",
      "   --- ------------------------------------ 30.7/337.0 kB 1.4 MB/s eta 0:00:01\n",
      "   --------- ----------------------------- 81.9/337.0 kB 919.0 kB/s eta 0:00:01\n",
      "   -------------------- ------------------- 174.1/337.0 kB 1.3 MB/s eta 0:00:01\n",
      "   -------------------------------------- - 327.7/337.0 kB 2.0 MB/s eta 0:00:01\n",
      "   ---------------------------------------- 337.0/337.0 kB 1.9 MB/s eta 0:00:00\n",
      "Installing collected packages: openai\n",
      "Successfully installed openai-1.37.1\n"
     ]
    }
   ],
   "source": [
    "!pip install openai"
   ]
  },
  {
   "cell_type": "code",
   "execution_count": null,
   "id": "152bea6a-573c-4021-9062-c2aaf7e5f4f2",
   "metadata": {},
   "outputs": [
    {
     "name": "stdin",
     "output_type": "stream",
     "text": [
      "You:  hello chat \n"
     ]
    },
    {
     "name": "stdout",
     "output_type": "stream",
     "text": [
      "AI assistant: Hello! How can I assist you today?\n"
     ]
    },
    {
     "name": "stdin",
     "output_type": "stream",
     "text": [
      "You:  what are you doing ? \n"
     ]
    },
    {
     "name": "stdout",
     "output_type": "stream",
     "text": [
      "AI assistant: I am an AI assistant here to help you with any questions or tasks you may have. How can I assist you today?\n"
     ]
    }
   ],
   "source": [
    "from openai import OpenAI\n",
    "\n",
    "# Replace 'your-api-key' with your actual OpenAI API key\n",
    "client = OpenAI(api_key='your api key')\n",
    "\n",
    "def send_message(message_log):\n",
    "    completion = client.chat.completions.create(\n",
    "        model=\"gpt-3.5-turbo\",  # or use \"gpt-4\" if you have access\n",
    "        messages=[\n",
    "            {\"role\": \"user\", \"content\": message_log}\n",
    "        ]\n",
    "    )\n",
    "\n",
    "    # If no response with text is found, return the first response's content (which may be empty)\n",
    "    return completion.choices[0].message.content\n",
    "\n",
    "# Main function that runs the chatbot\n",
    "def main():\n",
    "    # Initialize the conversation history with a message from the chatbot\n",
    "    message_log = [\n",
    "        {\"role\": \"system\", \"content\": \"You are a helpful assistant.\"}\n",
    "    ]\n",
    "\n",
    "    # Set a flag to keep track of whether this is the first request in the conversation\n",
    "    first_request = True\n",
    "\n",
    "    # Start a loop that runs until the user types \"quit\"\n",
    "    while True:\n",
    "        if first_request:\n",
    "            # If this is the first request, get the user's input and add it to the conversation history\n",
    "            user_input = input(\"You: \")\n",
    "\n",
    "            # Send the conversation history to the chatbot and get its response\n",
    "            response = send_message(user_input)\n",
    "\n",
    "            # Add the chatbot's response to the conversation history and print it to the console\n",
    "            print(f\"AI assistant: {response}\")\n",
    "\n",
    "            # Set the flag to False so that this branch is not executed again\n",
    "            first_request = False\n",
    "        else:\n",
    "            # If this is not the first request, get the user's input and add it to the conversation history\n",
    "            user_input = input(\"You: \")\n",
    "\n",
    "            # If the user types \"quit\", end the loop and print a goodbye message\n",
    "            if user_input.lower() == \"q\":\n",
    "                print(\"Goodbye!\")\n",
    "                break\n",
    "\n",
    "            # Send the conversation history to the chatbot and get its response\n",
    "            response = send_message(user_input)\n",
    "            print(f\"AI assistant: {response}\")\n",
    " \n",
    "\n",
    "if __name__ == \"__main__\":\n",
    "    main()\n"
   ]
  },
  {
   "cell_type": "code",
   "execution_count": null,
   "id": "70989d24-b2d1-48eb-adcd-fd9e067652a6",
   "metadata": {},
   "outputs": [],
   "source": []
  }
 ],
 "metadata": {
  "kernelspec": {
   "display_name": "Python 3 (ipykernel)",
   "language": "python",
   "name": "python3"
  },
  "language_info": {
   "codemirror_mode": {
    "name": "ipython",
    "version": 3
   },
   "file_extension": ".py",
   "mimetype": "text/x-python",
   "name": "python",
   "nbconvert_exporter": "python",
   "pygments_lexer": "ipython3",
   "version": "3.11.7"
  }
 },
 "nbformat": 4,
 "nbformat_minor": 5
}
